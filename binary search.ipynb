{
 "cells": [
  {
   "cell_type": "code",
   "execution_count": 3,
   "metadata": {},
   "outputs": [
    {
     "name": "stdout",
     "output_type": "stream",
     "text": [
      "3\n"
     ]
    }
   ],
   "source": [
    "# Binary search:\n",
    "def binary_search(my_list, l, r, x):\n",
    "    if r >= l:\n",
    "        mid = l + (r - l) // 2\n",
    "        if my_list[mid] == x:\n",
    "            return mid\n",
    "        elif my_list[mid] > x:\n",
    "            return binary_search(my_list, l, mid-1, x)\n",
    "        else:\n",
    "            return binary_search(my_list, mid+1, r, x)\n",
    "    else:\n",
    "        return -1\n",
    "    \n",
    "nums = [2, 3, 4, 10, 40]\n",
    "x = 10\n",
    "print(binary_search(nums, 0, len(nums)-1, x))"
   ]
  },
  {
   "cell_type": "code",
   "execution_count": null,
   "metadata": {},
   "outputs": [],
   "source": []
  }
 ],
 "metadata": {
  "kernelspec": {
   "display_name": "Python 3",
   "language": "python",
   "name": "python3"
  },
  "language_info": {
   "codemirror_mode": {
    "name": "ipython",
    "version": 3
   },
   "file_extension": ".py",
   "mimetype": "text/x-python",
   "name": "python",
   "nbconvert_exporter": "python",
   "pygments_lexer": "ipython3",
   "version": "3.6.8"
  }
 },
 "nbformat": 4,
 "nbformat_minor": 2
}
