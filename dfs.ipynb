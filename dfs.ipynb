{
 "cells": [
  {
   "cell_type": "code",
   "execution_count": 1,
   "metadata": {},
   "outputs": [
    {
     "name": "stdout",
     "output_type": "stream",
     "text": [
      "[1, 2, 4, 6, 7, 5, 3]\n"
     ]
    }
   ],
   "source": [
    "# Depth first search:\n",
    "def dfs(graph, vertex, path=[]):\n",
    "    path += [vertex]\n",
    "    \n",
    "    for neighbor in graph[vertex]:\n",
    "        if neighbor not in path:\n",
    "            path = dfs(graph, neighbor, path)\n",
    "            \n",
    "    return path\n",
    "\n",
    "# a simple graph\n",
    "G = {1: [2, 3], 2: [4, 5],\n",
    "    3: [5], 4: [6], 5: [6],\n",
    "    6: [7], 7: []}\n",
    "\n",
    "print(dfs(G, 1))"
   ]
  },
  {
   "cell_type": "code",
   "execution_count": null,
   "metadata": {},
   "outputs": [],
   "source": []
  }
 ],
 "metadata": {
  "kernelspec": {
   "display_name": "Python 3",
   "language": "python",
   "name": "python3"
  },
  "language_info": {
   "codemirror_mode": {
    "name": "ipython",
    "version": 3
   },
   "file_extension": ".py",
   "mimetype": "text/x-python",
   "name": "python",
   "nbconvert_exporter": "python",
   "pygments_lexer": "ipython3",
   "version": "3.6.8"
  }
 },
 "nbformat": 4,
 "nbformat_minor": 2
}
