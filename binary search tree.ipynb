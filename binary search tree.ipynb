{
 "cells": [
  {
   "cell_type": "code",
   "execution_count": 2,
   "metadata": {},
   "outputs": [
    {
     "name": "stdout",
     "output_type": "stream",
     "text": [
      "Found at:  0x1df7d3fd588\n"
     ]
    },
    {
     "data": {
      "text/plain": [
       "<__main__.Node at 0x1df7d3fd588>"
      ]
     },
     "execution_count": 2,
     "metadata": {},
     "output_type": "execute_result"
    }
   ],
   "source": [
    "# Binary search tree:\n",
    "class Node:\n",
    "    def __init__(self, data):\n",
    "        self.left = None\n",
    "        self.right = None\n",
    "        self.data = data\n",
    "        \n",
    "def search(root, data):\n",
    "    if root is None:\n",
    "        print(\"Not found...\")\n",
    "    if root.data == data:\n",
    "        print(\"Found at: \", hex(id(root)))\n",
    "        return root\n",
    "    if root.data < data:\n",
    "        return search(root.right, data)\n",
    "    else:\n",
    "        return search(root.left, data)\n",
    "    \n",
    "def insert(root, node):\n",
    "    if root is None:\n",
    "        root = node\n",
    "    else:\n",
    "        if root.data < node.data:\n",
    "            if root.right is None:\n",
    "                root.right = node\n",
    "            else:\n",
    "                insert(root.right, node)\n",
    "        else:\n",
    "            if root.left is None:\n",
    "                root.left = node\n",
    "            else:\n",
    "                insert(root.left, node)\n",
    "                \n",
    "root = Node(50)\n",
    "insert(root,Node(30))\n",
    "insert(root,Node(20))\n",
    "insert(root,Node(40))\n",
    "insert(root,Node(70))\n",
    "insert(root,Node(60))\n",
    "insert(root,Node(80))\n",
    "\n",
    "search(root, 70)"
   ]
  },
  {
   "cell_type": "code",
   "execution_count": null,
   "metadata": {},
   "outputs": [],
   "source": []
  }
 ],
 "metadata": {
  "kernelspec": {
   "display_name": "Python 3",
   "language": "python",
   "name": "python3"
  },
  "language_info": {
   "codemirror_mode": {
    "name": "ipython",
    "version": 3
   },
   "file_extension": ".py",
   "mimetype": "text/x-python",
   "name": "python",
   "nbconvert_exporter": "python",
   "pygments_lexer": "ipython3",
   "version": "3.6.8"
  }
 },
 "nbformat": 4,
 "nbformat_minor": 2
}
