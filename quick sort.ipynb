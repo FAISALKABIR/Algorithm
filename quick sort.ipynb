{
 "cells": [
  {
   "cell_type": "code",
   "execution_count": 1,
   "metadata": {},
   "outputs": [
    {
     "name": "stdout",
     "output_type": "stream",
     "text": [
      "[1, 2, 4, 5, 6, 7, 11, 19, 29]\n"
     ]
    }
   ],
   "source": [
    "# Quick sort:\n",
    "from random import randint\n",
    "\n",
    "def quicksort(lst, start, end):\n",
    "    if start < end:\n",
    "        pivot = randint(start, end)\n",
    "        # swap with the last element\n",
    "        lst[end], lst[pivot] = lst[pivot], lst[end]\n",
    "        \n",
    "        # Partition the list\n",
    "        split = partition(lst, start, end)\n",
    "        \n",
    "        #sort both halves\n",
    "        quicksort(lst, start, split-1)\n",
    "        quicksort(lst, split+1, end)\n",
    "        \n",
    "def partition(lst, start, end):\n",
    "    pivot_index = start-1\n",
    "    for index in range(start, end):\n",
    "        # compare with pivot\n",
    "        if lst[index] < lst[end]:\n",
    "            pivot_index = pivot_index + 1\n",
    "            # swap\n",
    "            lst[pivot_index], lst[index] = lst[index], lst[pivot_index]\n",
    "            \n",
    "    # swap with the last element\n",
    "    lst[pivot_index+1], lst[end] = lst[end], lst[pivot_index+1]\n",
    "    \n",
    "    return pivot_index+1\n",
    "\n",
    "nums = [7, 2, 5, 1, 29, 6, 4, 19, 11]\n",
    "\n",
    "quicksort(nums, 0, len(nums)-1)\n",
    "print(nums)"
   ]
  },
  {
   "cell_type": "code",
   "execution_count": null,
   "metadata": {},
   "outputs": [],
   "source": []
  }
 ],
 "metadata": {
  "kernelspec": {
   "display_name": "Python 3",
   "language": "python",
   "name": "python3"
  },
  "language_info": {
   "codemirror_mode": {
    "name": "ipython",
    "version": 3
   },
   "file_extension": ".py",
   "mimetype": "text/x-python",
   "name": "python",
   "nbconvert_exporter": "python",
   "pygments_lexer": "ipython3",
   "version": "3.6.8"
  }
 },
 "nbformat": 4,
 "nbformat_minor": 2
}
