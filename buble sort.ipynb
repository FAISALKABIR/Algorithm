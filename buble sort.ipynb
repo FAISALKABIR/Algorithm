{
 "cells": [
  {
   "cell_type": "code",
   "execution_count": 1,
   "metadata": {},
   "outputs": [
    {
     "name": "stdout",
     "output_type": "stream",
     "text": [
      "[14, 21, 27, 41, 43, 45, 46, 57, 70]\n"
     ]
    }
   ],
   "source": [
    "# Buble sort:\n",
    "def buble_sort(nlist):\n",
    "    for passnum in range(len(nlist)-1,0,-1):\n",
    "        for j in range(passnum):\n",
    "            if nlist[j] > nlist[j+1]:\n",
    "                nlist[j], nlist[j+1] = nlist[j+1], nlist[j]\n",
    "                \n",
    "nlist = [14, 46, 43, 27, 57, 41, 45, 21, 70]\n",
    "buble_sort(nlist)\n",
    "print(nlist)"
   ]
  },
  {
   "cell_type": "code",
   "execution_count": null,
   "metadata": {},
   "outputs": [],
   "source": []
  }
 ],
 "metadata": {
  "kernelspec": {
   "display_name": "Python 3",
   "language": "python",
   "name": "python3"
  },
  "language_info": {
   "codemirror_mode": {
    "name": "ipython",
    "version": 3
   },
   "file_extension": ".py",
   "mimetype": "text/x-python",
   "name": "python",
   "nbconvert_exporter": "python",
   "pygments_lexer": "ipython3",
   "version": "3.6.8"
  }
 },
 "nbformat": 4,
 "nbformat_minor": 2
}
